{
 "cells": [
  {
   "cell_type": "markdown",
   "id": "7ca73c75-35aa-4558-a142-6d69711daaac",
   "metadata": {},
   "source": [
    "Question 1:-"
   ]
  },
  {
   "cell_type": "code",
   "execution_count": 1,
   "id": "a01ab006-a7e8-4da1-ae5f-790cb2a3c4a1",
   "metadata": {},
   "outputs": [
    {
     "name": "stdout",
     "output_type": "stream",
     "text": [
      "[[1, 2], [3, 4]]\n"
     ]
    }
   ],
   "source": [
    "def convert_to_2d(original, m, n):\n",
    "    if len(original) != m * n:\n",
    "        return []\n",
    "    \n",
    "    result = [[0] * n for _ in range(m)]\n",
    "    for i in range(len(original)):\n",
    "        row = i // n\n",
    "        col = i % n\n",
    "        result[row][col] = original[i]\n",
    "    \n",
    "    return result\n",
    "\n",
    "# Example\n",
    "original = [1, 2, 3, 4]\n",
    "m = 2\n",
    "n = 2\n",
    "result = convert_to_2d(original, m, n)\n",
    "print(result)"
   ]
  },
  {
   "cell_type": "markdown",
   "id": "c7714bf0-b741-4210-9329-11a1f1baed1d",
   "metadata": {},
   "source": [
    "Question 2:-"
   ]
  },
  {
   "cell_type": "code",
   "execution_count": 2,
   "id": "7383d8b8-64b4-4974-9a65-1b89f453f156",
   "metadata": {},
   "outputs": [
    {
     "name": "stdout",
     "output_type": "stream",
     "text": [
      "2\n"
     ]
    }
   ],
   "source": [
    "def arrange_coins(n):\n",
    "    k = 0\n",
    "    total = 0\n",
    "\n",
    "    while total + k <= n:\n",
    "        total += k\n",
    "        k += 1\n",
    "\n",
    "    return k - 1\n",
    "\n",
    "# Example\n",
    "n = 5\n",
    "\n",
    "complete_rows = arrange_coins(n)\n",
    "print(complete_rows)"
   ]
  },
  {
   "cell_type": "markdown",
   "id": "ddd73ba5-56dc-465a-bb76-2a944b1d5bce",
   "metadata": {},
   "source": [
    "Question 3:-"
   ]
  },
  {
   "cell_type": "code",
   "execution_count": 1,
   "id": "fe994097-57fb-48f5-8ef0-cba56c3abcca",
   "metadata": {},
   "outputs": [
    {
     "name": "stdout",
     "output_type": "stream",
     "text": [
      "[0, 1, 9, 16, 100]\n"
     ]
    }
   ],
   "source": [
    "def sortedSquares(nums):\n",
    "    # Create an empty array to store the squared values\n",
    "    squared_nums = []\n",
    "    \n",
    "    # Iterate through each number in the input array\n",
    "    for num in nums:\n",
    "        # Square each number and add it to the squared_nums array\n",
    "        squared_nums.append(num * num)\n",
    "    \n",
    "    # Sort the array of squared values in non-decreasing order\n",
    "    squared_nums.sort()\n",
    "    \n",
    "    # Return the sorted array\n",
    "    return squared_nums\n",
    "\n",
    "# Example\n",
    "nums = [-4, -1, 0, 3, 10]\n",
    "result = sortedSquares(nums)\n",
    "print(result)"
   ]
  },
  {
   "cell_type": "markdown",
   "id": "b06c76dc-e0c8-4501-a391-cdb752cba485",
   "metadata": {},
   "source": [
    "Question 4:-"
   ]
  },
  {
   "cell_type": "code",
   "execution_count": 2,
   "id": "19bd7887-9aac-4583-b28b-28463e866ee3",
   "metadata": {},
   "outputs": [
    {
     "name": "stdout",
     "output_type": "stream",
     "text": [
      "[[1, 3], [4, 6]]\n"
     ]
    }
   ],
   "source": [
    "def findDisjoint(nums1, nums2):\n",
    "    # Create empty sets to store distinct integers\n",
    "    distinct_nums1 = set()\n",
    "    distinct_nums2 = set()\n",
    "\n",
    "    # Iterate through nums1 and add integers to distinct_nums1 set\n",
    "    for num in nums1:\n",
    "        distinct_nums1.add(num)\n",
    "\n",
    "    # Iterate through nums2 and add integers to distinct_nums2 set\n",
    "    for num in nums2:\n",
    "        distinct_nums2.add(num)\n",
    "\n",
    "    # Find distinct integers in nums1 not present in nums2\n",
    "    result_nums1 = list(distinct_nums1 - distinct_nums2)\n",
    "\n",
    "    # Find distinct integers in nums2 not present in nums1\n",
    "    result_nums2 = list(distinct_nums2 - distinct_nums1)\n",
    "\n",
    "    # Return a list of the two results\n",
    "    return [result_nums1, result_nums2]\n",
    "\n",
    "# Example\n",
    "nums1 = [1, 2, 3]\n",
    "nums2 = [2, 4, 6]\n",
    "result = findDisjoint(nums1, nums2)\n",
    "print(result)"
   ]
  },
  {
   "cell_type": "markdown",
   "id": "7fb9c232-59a9-4b58-82bd-46889f312d22",
   "metadata": {},
   "source": [
    "Question 5:-"
   ]
  },
  {
   "cell_type": "code",
   "execution_count": 3,
   "id": "1afe74e4-5856-4d7a-9280-00203b0dc793",
   "metadata": {},
   "outputs": [
    {
     "name": "stdout",
     "output_type": "stream",
     "text": [
      "2\n"
     ]
    }
   ],
   "source": [
    "def findDistanceValue(arr1, arr2, d):\n",
    "    # Initialize a counter to keep track of the distance value\n",
    "    distance = 0\n",
    "\n",
    "    # Iterate through each element in arr1\n",
    "    for num1 in arr1:\n",
    "        # Assume the element satisfies the condition unless found otherwise\n",
    "        satisfies_condition = True\n",
    "\n",
    "        # Iterate through each element in arr2\n",
    "        for num2 in arr2:\n",
    "            # Check if the absolute difference between num1 and num2 is less than or equal to d\n",
    "            if abs(num1 - num2) <= d:\n",
    "                # If the condition is satisfied, set the flag to False and break the inner loop\n",
    "                satisfies_condition = False\n",
    "                break\n",
    "\n",
    "        # If no element in arr2 satisfies the condition, increment the distance counter\n",
    "        if satisfies_condition:\n",
    "            distance += 1\n",
    "\n",
    "    # Return the calculated distance value\n",
    "    return distance\n",
    "\n",
    "# Example\n",
    "arr1 = [4, 5, 8]\n",
    "arr2 = [10, 9, 1, 8]\n",
    "d = 2\n",
    "\n",
    "result = findDistanceValue(arr1, arr2, d)\n",
    "print(result)"
   ]
  },
  {
   "cell_type": "markdown",
   "id": "4bbcc487-e9d1-45b2-9960-20ba5d37aa9e",
   "metadata": {},
   "source": [
    "Question 6:-"
   ]
  },
  {
   "cell_type": "code",
   "execution_count": 4,
   "id": "d95d596b-7317-44cc-b446-e27f3a0bf0e1",
   "metadata": {},
   "outputs": [
    {
     "name": "stdout",
     "output_type": "stream",
     "text": [
      "[2, 3]\n"
     ]
    }
   ],
   "source": [
    "def findDuplicates(nums):\n",
    "    result = []  # Initialize an empty list to store the integers that appear twice\n",
    "\n",
    "    for num in nums:  # Iterate through each number in nums\n",
    "        index = abs(num) - 1  # Calculate the index as the absolute value of num minus 1\n",
    "\n",
    "        if nums[index] > 0:  # If the number at index is positive, it means we haven't encountered num before\n",
    "            nums[index] = -nums[index]  # Mark the number at index as negative to indicate its presence\n",
    "        else:  # If the number at index is negative, it means we have encountered num before\n",
    "            result.append(abs(num))  # Append the absolute value of num to the result list\n",
    "\n",
    "    return result  # Return the list of integers that appear twice\n",
    "\n",
    "# Example\n",
    "nums = [4, 3, 2, 7, 8, 2, 3, 1]\n",
    "result = findDuplicates(nums)\n",
    "print(result)"
   ]
  },
  {
   "cell_type": "markdown",
   "id": "a0a64fe5-6c62-4072-8cbf-fcfde9d018d0",
   "metadata": {},
   "source": [
    "Question 7:-"
   ]
  },
  {
   "cell_type": "code",
   "execution_count": 5,
   "id": "8c304bde-2744-4949-9f4b-b1a11b3d80f4",
   "metadata": {},
   "outputs": [
    {
     "name": "stdout",
     "output_type": "stream",
     "text": [
      "1\n"
     ]
    }
   ],
   "source": [
    "def findMin(nums):\n",
    "    left = 0  # Set the left pointer to the first index of nums\n",
    "    right = len(nums) - 1  # Set the right pointer to the last index of nums\n",
    "\n",
    "    while left < right:  # Perform binary search until left is less than right\n",
    "        middle = (left + right) // 2  # Calculate the middle index\n",
    "\n",
    "        if nums[middle] > nums[right]:  # Compare the middle element with the last element\n",
    "            left = middle + 1  # If middle element is greater, update left pointer\n",
    "        else:\n",
    "            right = middle  # If middle element is less or equal, update right pointer\n",
    "\n",
    "    return nums[left]  # Return the minimum element at the left index\n",
    "\n",
    "# Example\n",
    "nums = [3, 4, 5, 1, 2]\n",
    "result = findMin(nums)\n",
    "print(result)"
   ]
  },
  {
   "cell_type": "markdown",
   "id": "08582d7b-973b-4b74-b009-cf1bf83b30fd",
   "metadata": {},
   "source": [
    "Question 8:-"
   ]
  },
  {
   "cell_type": "code",
   "execution_count": 15,
   "id": "4395e59f-2f53-41b7-a6fa-7265d57f330f",
   "metadata": {},
   "outputs": [
    {
     "name": "stdout",
     "output_type": "stream",
     "text": [
      "[1, 3, 4]\n"
     ]
    }
   ],
   "source": [
    "from collections import Counter\n",
    "\n",
    "def findOriginalArray(changed):\n",
    "    if len(changed) % 2 != 0:  # If the length of changed is odd, return an empty array\n",
    "        return []\n",
    "\n",
    "    counter = Counter(changed)  # Count the occurrences of each element in changed\n",
    "    original = []\n",
    "\n",
    "    for num in sorted(changed):\n",
    "        if counter[num] == 0:  # If the count of num is 0, skip to the next iteration\n",
    "            continue\n",
    "\n",
    "        counter[num] -= 1  # Decrement the count of num\n",
    "\n",
    "        double_num = num * 2\n",
    "\n",
    "        if counter[double_num] == 0:  # If the count of double_num is 0, return an empty array\n",
    "            return []\n",
    "\n",
    "        counter[double_num] -= 1  # Decrement the count of double_num\n",
    "        original.append(num)  # Append num to the original array\n",
    "\n",
    "    return original\n",
    "\n",
    "\n",
    "# Example\n",
    "changed = [1, 3, 4, 2, 6, 8]\n",
    "original = findOriginalArray(changed)\n",
    "print(original)"
   ]
  },
  {
   "cell_type": "code",
   "execution_count": null,
   "id": "948d7907-e30b-4a85-9ea2-7c1162c1eb62",
   "metadata": {},
   "outputs": [],
   "source": []
  }
 ],
 "metadata": {
  "kernelspec": {
   "display_name": "Python 3 (ipykernel)",
   "language": "python",
   "name": "python3"
  },
  "language_info": {
   "codemirror_mode": {
    "name": "ipython",
    "version": 3
   },
   "file_extension": ".py",
   "mimetype": "text/x-python",
   "name": "python",
   "nbconvert_exporter": "python",
   "pygments_lexer": "ipython3",
   "version": "3.10.8"
  }
 },
 "nbformat": 4,
 "nbformat_minor": 5
}
