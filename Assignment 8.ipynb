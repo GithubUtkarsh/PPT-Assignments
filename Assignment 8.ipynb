{
 "cells": [
  {
   "cell_type": "markdown",
   "id": "3b5f2e4f-3e85-4a08-ab9f-5c9833b8184d",
   "metadata": {},
   "source": [
    "Question 1:-"
   ]
  },
  {
   "cell_type": "code",
   "execution_count": 1,
   "id": "94ebcca8-9cec-49a7-b5c0-bb1f72eb733a",
   "metadata": {},
   "outputs": [
    {
     "name": "stdout",
     "output_type": "stream",
     "text": [
      "231\n"
     ]
    }
   ],
   "source": [
    "def minimumDeleteSum(s1, s2):\n",
    "    m, n = len(s1), len(s2)\n",
    "    dp = [[0] * (n + 1) for _ in range(m + 1)]\n",
    "\n",
    "    # Initialize base cases\n",
    "    for i in range(1, m + 1):\n",
    "        dp[i][0] = dp[i-1][0] + ord(s1[i-1])  # Delete all characters in s1[0...i-1]\n",
    "    for j in range(1, n + 1):\n",
    "        dp[0][j] = dp[0][j-1] + ord(s2[j-1])  # Delete all characters in s2[0...j-1]\n",
    "\n",
    "    # Fill in the dp array\n",
    "    for i in range(1, m + 1):\n",
    "        for j in range(1, n + 1):\n",
    "            if s1[i-1] == s2[j-1]:\n",
    "                dp[i][j] = dp[i-1][j-1]  # No deletion needed\n",
    "            else:\n",
    "                dp[i][j] = min(dp[i-1][j] + ord(s1[i-1]), dp[i][j-1] + ord(s2[j-1]))  # Delete one character\n",
    "\n",
    "    return dp[m][n]\n",
    "\n",
    "# Example\n",
    "s1 = \"sea\"\n",
    "s2 = \"eat\"\n",
    "result = minimumDeleteSum(s1,s2)\n",
    "print(result)"
   ]
  },
  {
   "cell_type": "markdown",
   "id": "4121c910-6537-466b-bb57-c09635b13eee",
   "metadata": {},
   "source": [
    "Question 2:-"
   ]
  },
  {
   "cell_type": "code",
   "execution_count": 21,
   "id": "abba508c-e1a9-46a2-87ee-9e200d8adf04",
   "metadata": {},
   "outputs": [
    {
     "name": "stdout",
     "output_type": "stream",
     "text": [
      "True\n"
     ]
    }
   ],
   "source": [
    "def checkValidString(s):\n",
    "    # Initialize an empty stack to keep track of opening parentheses and asterisks\n",
    "    stack = []\n",
    "\n",
    "    # Iterate through each character in the string\n",
    "    for c in s:\n",
    "        # If the character is an opening parenthesis or an asterisk, push it onto the stack\n",
    "        if c == '(' or c == '*':\n",
    "            stack.append(c)\n",
    "        # If the character is a closing parenthesis, try to match it with an opening parenthesis or an asterisk\n",
    "        elif c == ')':\n",
    "            # Check if there is an opening parenthesis in the stack\n",
    "            if stack:\n",
    "                stack.pop()  # Pop the opening parenthesis\n",
    "            else:\n",
    "                # If there is no opening parenthesis, check if there is an asterisk\n",
    "                if '*' in stack:\n",
    "                    stack.remove('*')  # Remove an asterisk as it can act as an opening parenthesis\n",
    "                else:\n",
    "                    return False  # If there is no opening parenthesis or asterisk, it's an invalid string\n",
    "\n",
    "    # After iterating through all characters, check if there are any remaining opening parentheses in the stack\n",
    "    while stack:\n",
    "        if stack.pop() == '(':\n",
    "            return False  # If there are remaining opening parentheses, it's an invalid string\n",
    "\n",
    "    return True  # If all parentheses are matched or canceled by asterisks, it's a valid string\n",
    "\n",
    "# Example\n",
    "s = \"()\"\n",
    "result = checkValidString(s)\n",
    "print(result)"
   ]
  },
  {
   "cell_type": "markdown",
   "id": "cfea049c-e1d8-41dd-8f1a-3c4f8a8c79a9",
   "metadata": {},
   "source": [
    "Question 3:-"
   ]
  },
  {
   "cell_type": "code",
   "execution_count": 22,
   "id": "f243ebf9-109e-48e5-8531-26f492286f24",
   "metadata": {},
   "outputs": [
    {
     "name": "stdout",
     "output_type": "stream",
     "text": [
      "2\n"
     ]
    }
   ],
   "source": [
    "def minSteps(word1, word2):\n",
    "    # Get the lengths of the input words\n",
    "    m, n = len(word1), len(word2)\n",
    "\n",
    "    # Initialize a 2D array to store the dynamic programming values\n",
    "    dp = [[0] * (n + 1) for _ in range(m + 1)]\n",
    "\n",
    "    # Initialize base cases\n",
    "    for i in range(1, m + 1):\n",
    "        dp[i][0] = i\n",
    "    for j in range(1, n + 1):\n",
    "        dp[0][j] = j\n",
    "\n",
    "    # Fill in the dp array\n",
    "    for i in range(1, m + 1):\n",
    "        for j in range(1, n + 1):\n",
    "            # If the characters at the corresponding positions are the same,\n",
    "            # take the diagonal value as the minimum step count\n",
    "            if word1[i-1] == word2[j-1]:\n",
    "                dp[i][j] = dp[i-1][j-1]\n",
    "            else:\n",
    "                # If the characters are different, take the minimum of the previous row and previous column\n",
    "                # and add 1 (representing the deletion or insertion of a character)\n",
    "                dp[i][j] = min(dp[i-1][j] + 1, dp[i][j-1] + 1)\n",
    "\n",
    "    # Return the minimum steps to make the two words equal\n",
    "    return dp[m][n]\n",
    "\n",
    "# Example\n",
    "word1 = \"sea\" \n",
    "word2 = \"eat\"\n",
    "result = minSteps(word1,word2)\n",
    "print(result)"
   ]
  },
  {
   "cell_type": "markdown",
   "id": "7009c739-0591-438b-bf28-ed3dda5e21bc",
   "metadata": {},
   "source": [
    "Question 4:-"
   ]
  },
  {
   "cell_type": "code",
   "execution_count": 4,
   "id": "e988f409-0d80-4cd8-bc9a-9f984a76bd54",
   "metadata": {},
   "outputs": [],
   "source": [
    "class TreeNode:\n",
    "    def __init__(self, val=0, left=None, right=None):\n",
    "        self.val = val\n",
    "        self.left = left\n",
    "        self.right = right\n",
    "\n",
    "def buildTree(s):\n",
    "    if not s:\n",
    "        return None\n",
    "\n",
    "    # Find the index of the first opening parenthesis\n",
    "    root_val_end = s.find('(')\n",
    "    if root_val_end == -1:\n",
    "        # No opening parenthesis, so the entire string is the root value\n",
    "        root_val_end = len(s)\n",
    "\n",
    "    # Create the root node\n",
    "    root_val = int(s[:root_val_end])\n",
    "    root = TreeNode(root_val)\n",
    "\n",
    "    # Find the index of the corresponding closing parenthesis\n",
    "    bal = 0\n",
    "    split_pos = root_val_end\n",
    "    for i in range(root_val_end, len(s)):\n",
    "        if s[i] == '(':\n",
    "            bal += 1\n",
    "        elif s[i] == ')':\n",
    "            bal -= 1\n",
    "        if bal == 0:\n",
    "            split_pos = i\n",
    "            break\n",
    "\n",
    "    # Split the string into left, middle, and right substrings\n",
    "    left_str = s[root_val_end+1:split_pos]\n",
    "    right_str = s[split_pos+2:-1] if split_pos+2 < len(s)-1 else ''\n",
    "\n",
    "    # Recursively build the left and right subtrees\n",
    "    root.left = buildTree(left_str)\n",
    "    root.right = buildTree(right_str)\n",
    "\n",
    "    return root"
   ]
  },
  {
   "cell_type": "code",
   "execution_count": 20,
   "id": "c3fb74ca-ea79-4d10-af9d-9c77fd8bf687",
   "metadata": {},
   "outputs": [
    {
     "name": "stdout",
     "output_type": "stream",
     "text": [
      "[3, 2, 1, 4, 5, 6]\n"
     ]
    }
   ],
   "source": [
    "def treeToList(root):\n",
    "    # Check if root is None (empty tree)\n",
    "    if not root:\n",
    "        return []\n",
    "\n",
    "    # Initialize an empty list to store the result\n",
    "    result = []\n",
    "\n",
    "    # Recursively convert the left subtree to a list and extend the result list\n",
    "    result.extend(treeToList(root.left))\n",
    "\n",
    "    # Append the current node's value to the result list\n",
    "    result.append(root.val)\n",
    "\n",
    "    # Recursively convert the right subtree to a list and extend the result list\n",
    "    result.extend(treeToList(root.right))\n",
    "\n",
    "    # Return the final result list\n",
    "    return result\n",
    "\n",
    "# Example\n",
    "s = \"4(2(3)(1))(6(5))\"\n",
    "root = buildTree(s)\n",
    "output = treeToList(root)\n",
    "print(output)  # [4, 2, 6, 3, 1, 5]"
   ]
  },
  {
   "cell_type": "markdown",
   "id": "ee3df7d4-24c2-4262-b466-950ec84b8cf1",
   "metadata": {},
   "source": [
    "Question 5:-"
   ]
  },
  {
   "cell_type": "code",
   "execution_count": 19,
   "id": "f015ff71-ad6b-4cfa-8908-7bcf9b813348",
   "metadata": {},
   "outputs": [
    {
     "name": "stdout",
     "output_type": "stream",
     "text": [
      "6\n",
      "['a', '2', 'b', '2', 'c', '3']\n"
     ]
    }
   ],
   "source": [
    "def compress(chars):\n",
    "    # Initialize write pointer, count, and previous character\n",
    "    write = 0\n",
    "    count = 1\n",
    "    prev_char = chars[0]\n",
    "\n",
    "    # Iterate through the characters starting from the second character\n",
    "    for read in range(1, len(chars)):\n",
    "        curr_char = chars[read]\n",
    "        # If the current character is the same as the previous character, increment the count\n",
    "        if curr_char == prev_char:\n",
    "            count += 1\n",
    "        # If the current character is different from the previous character,\n",
    "        # update the character at write pointer with the previous character,\n",
    "        # increment write pointer, and add the count if it's greater than 1\n",
    "        else:\n",
    "            chars[write] = prev_char\n",
    "            write += 1\n",
    "            if count > 1:\n",
    "                count_str = str(count)\n",
    "                for digit in count_str:\n",
    "                    chars[write] = digit\n",
    "                    write += 1\n",
    "            count = 1\n",
    "        # Update the previous character\n",
    "        prev_char = curr_char\n",
    "\n",
    "    # Add the last character and count if it's greater than 1\n",
    "    chars[write] = prev_char\n",
    "    write += 1\n",
    "    if count > 1:\n",
    "        count_str = str(count)\n",
    "        for digit in count_str:\n",
    "            chars[write] = digit\n",
    "            write += 1\n",
    "\n",
    "    # Return the length of the compressed array\n",
    "    return write\n",
    "\n",
    "# Example\n",
    "chars = [\"a\",\"a\",\"b\",\"b\",\"c\",\"c\",\"c\"]\n",
    "result = compress(chars)\n",
    "print(result)\n",
    "print(chars[:result])"
   ]
  },
  {
   "cell_type": "markdown",
   "id": "9e39ff25-2b1f-41ff-8571-da48aa774844",
   "metadata": {},
   "source": [
    "Question 6:-"
   ]
  },
  {
   "cell_type": "code",
   "execution_count": 12,
   "id": "f44e5158-d91c-4c70-8a29-d5992cd4e182",
   "metadata": {},
   "outputs": [
    {
     "name": "stdout",
     "output_type": "stream",
     "text": [
      "[0, 6]\n"
     ]
    }
   ],
   "source": [
    "def findAnagrams(s, p):\n",
    "    target_dict = {}\n",
    "    window_dict = {}\n",
    "    result = []\n",
    "    left = 0\n",
    "    right = 0\n",
    "\n",
    "    # Create the target dictionary\n",
    "    for char in p:\n",
    "        target_dict[char] = target_dict.get(char, 0) + 1\n",
    "\n",
    "    while right < len(s):\n",
    "        # Expand the window by adding the character at right pointer\n",
    "        window_dict[s[right]] = window_dict.get(s[right], 0) + 1\n",
    "\n",
    "        # Shrink the window if its length is greater than p's length\n",
    "        if right - left + 1 > len(p):\n",
    "            window_dict[s[left]] -= 1\n",
    "            if window_dict[s[left]] == 0:\n",
    "                del window_dict[s[left]]\n",
    "            left += 1\n",
    "\n",
    "        # Compare target_dict and window_dict\n",
    "        if window_dict == target_dict:\n",
    "            result.append(left)\n",
    "\n",
    "        right += 1\n",
    "\n",
    "    return result\n",
    "\n",
    "# Example\n",
    "s = \"cbaebabacd\"\n",
    "p = \"abc\"\n",
    "indices = findAnagrams(s, p)\n",
    "print(indices)  # Output: [0, 6]"
   ]
  },
  {
   "cell_type": "markdown",
   "id": "e1df3099-f6cb-4817-8d16-c6ce48415218",
   "metadata": {},
   "source": [
    "Question 7:-"
   ]
  },
  {
   "cell_type": "code",
   "execution_count": 16,
   "id": "860b770c-2d56-4c61-992e-d281cf71c738",
   "metadata": {},
   "outputs": [
    {
     "name": "stdout",
     "output_type": "stream",
     "text": [
      "aaabcbc\n"
     ]
    }
   ],
   "source": [
    "def decodeString(s):\n",
    "    # Initialize an empty stack to store characters and numbers\n",
    "    stack = []\n",
    "    # Initialize variables to store the current number and string\n",
    "    current_number = 0\n",
    "    current_string = ''\n",
    "\n",
    "    # Iterate through each character in the encoded string\n",
    "    for char in s:\n",
    "        # If the character is a digit, update the current_number\n",
    "        if char.isdigit():\n",
    "            current_number = current_number * 10 + int(char)\n",
    "        # If the character is an opening square bracket, push the current_string and current_number to the stack\n",
    "        elif char == '[':\n",
    "            stack.append((current_string, current_number))\n",
    "            # Reset the current_string and current_number\n",
    "            current_string = ''\n",
    "            current_number = 0\n",
    "        # If the character is a closing square bracket, pop the last string and number from the stack\n",
    "        # Append the repeated current_string to the previous string and update current_string\n",
    "        elif char == ']':\n",
    "            prev_string, prev_number = stack.pop()\n",
    "            current_string = prev_string + current_string * prev_number\n",
    "        # If the character is an alphabet, append it to the current_string\n",
    "        else:\n",
    "            current_string += char\n",
    "\n",
    "    # Return the final decoded string\n",
    "    return current_string\n",
    "\n",
    "# Example\n",
    "s = \"3[a]2[bc]\"\n",
    "decoded_str = decodeString(s)\n",
    "print(decoded_str)  # Output: \"aaabcbc\""
   ]
  },
  {
   "cell_type": "markdown",
   "id": "ae48c452-270a-4b0e-ace1-b032707f9dd3",
   "metadata": {},
   "source": [
    "Question 8:-"
   ]
  },
  {
   "cell_type": "code",
   "execution_count": 18,
   "id": "9a5c0b01-d0b7-4e1d-8690-31a9c5c71bd9",
   "metadata": {},
   "outputs": [
    {
     "name": "stdout",
     "output_type": "stream",
     "text": [
      "True\n"
     ]
    }
   ],
   "source": [
    "def buddyStrings(s, goal):\n",
    "    # Check if the lengths of the two strings are equal\n",
    "    if len(s) != len(goal):\n",
    "        return False\n",
    "\n",
    "    # Check if the strings are identical\n",
    "    if s == goal:\n",
    "        # Check if there are at least two occurrences of the same character in the string\n",
    "        char_count = {}\n",
    "        for char in s:\n",
    "            char_count[char] = char_count.get(char, 0) + 1\n",
    "            if char_count[char] >= 2:\n",
    "                return True\n",
    "        return False\n",
    "\n",
    "    # Find the indices where the characters differ between s and goal\n",
    "    indices = []\n",
    "    for i in range(len(s)):\n",
    "        if s[i] != goal[i]:\n",
    "            indices.append(i)\n",
    "\n",
    "    # Check if there are exactly two indices where the characters differ\n",
    "    if len(indices) != 2:\n",
    "        return False\n",
    "\n",
    "    # Check if swapping the characters at the two indices makes s equal to goal\n",
    "    if s[indices[0]] == goal[indices[1]] and s[indices[1]] == goal[indices[0]]:\n",
    "        return True\n",
    "\n",
    "    return False\n",
    "\n",
    "# Example\n",
    "s = \"ab\"\n",
    "goal = \"ba\"\n",
    "result = buddyStrings(s,goal)\n",
    "print(result)"
   ]
  },
  {
   "cell_type": "code",
   "execution_count": null,
   "id": "e1685a45-d9c9-40ab-8805-c5e01847f3d0",
   "metadata": {},
   "outputs": [],
   "source": []
  }
 ],
 "metadata": {
  "kernelspec": {
   "display_name": "Python 3 (ipykernel)",
   "language": "python",
   "name": "python3"
  },
  "language_info": {
   "codemirror_mode": {
    "name": "ipython",
    "version": 3
   },
   "file_extension": ".py",
   "mimetype": "text/x-python",
   "name": "python",
   "nbconvert_exporter": "python",
   "pygments_lexer": "ipython3",
   "version": "3.10.8"
  }
 },
 "nbformat": 4,
 "nbformat_minor": 5
}
