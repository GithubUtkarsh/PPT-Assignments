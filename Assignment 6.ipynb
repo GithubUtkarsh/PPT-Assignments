{
 "cells": [
  {
   "cell_type": "markdown",
   "id": "5060fe52-e9f9-430d-9e3e-1afe1ca47f18",
   "metadata": {},
   "source": [
    "Question 1 :-"
   ]
  },
  {
   "cell_type": "code",
   "execution_count": 1,
   "id": "a23f64a9-2de5-478c-974c-4962d56aadf5",
   "metadata": {},
   "outputs": [
    {
     "name": "stdout",
     "output_type": "stream",
     "text": [
      "[0, 4, 1, 3, 2]\n"
     ]
    }
   ],
   "source": [
    "def reconstruct_permutation(s):\n",
    "    perm = []  # Initialize an empty list to store the reconstructed permutation\n",
    "    n = len(s)  # Get the length of the string s\n",
    "    low, high = 0, n  # Initialize two variables to track the lower and higher values\n",
    "\n",
    "    for c in s:\n",
    "        if c == 'I':\n",
    "            perm.append(low)  # If the character is 'I', append the lower value to perm\n",
    "            low += 1  # Increment the lower value\n",
    "        elif c == 'D':\n",
    "            perm.append(high)  # If the character is 'D', append the higher value to perm\n",
    "            high -= 1  # Decrement the higher value\n",
    "\n",
    "    perm.append(low)  # Append either low or high to perm (they will have the same value at this point)\n",
    "    \n",
    "    return perm  # Return the reconstructed permutation\n",
    "\n",
    "# Example\n",
    "s = \"IDID\"\n",
    "reconstructed_permutation = reconstruct_permutation(s)\n",
    "print(reconstructed_permutation)"
   ]
  },
  {
   "cell_type": "markdown",
   "id": "c0044217-24b2-473a-9bc9-648e2703ca84",
   "metadata": {},
   "source": [
    "Question 2 :-"
   ]
  },
  {
   "cell_type": "code",
   "execution_count": 2,
   "id": "7bbb5733-575b-4fe7-b663-1bcada7d2558",
   "metadata": {},
   "outputs": [
    {
     "name": "stdout",
     "output_type": "stream",
     "text": [
      "True\n"
     ]
    }
   ],
   "source": [
    "def search_matrix(matrix, target):\n",
    "    rows = len(matrix)  # Get the number of rows in the matrix\n",
    "    cols = len(matrix[0]) if rows > 0 else 0  # Get the number of columns in the matrix if there are any rows, else 0\n",
    "    left = 0  # Initialize the left pointer to 0\n",
    "    right = rows * cols - 1  # Initialize the right pointer to the last index of the flattened matrix\n",
    "\n",
    "    while left <= right:\n",
    "        mid = (left + right) // 2  # Calculate the midpoint index\n",
    "        row = mid // cols  # Convert the midpoint index to the corresponding row index\n",
    "        col = mid % cols  # Convert the midpoint index to the corresponding column index\n",
    "        mid_element = matrix[row][col]  # Get the element at the midpoint index\n",
    "\n",
    "        if mid_element == target:\n",
    "            return True  # If the midpoint element is equal to the target, return True\n",
    "        elif mid_element < target:\n",
    "            left = mid + 1  # If the midpoint element is less than the target, update the left pointer\n",
    "        else:\n",
    "            right = mid - 1  # If the midpoint element is greater than the target, update the right pointer\n",
    "\n",
    "    return False  # If the target is not found, return False\n",
    "\n",
    "# Example\n",
    "matrix = [[1, 3, 5, 7], [10, 11, 16, 20], [23, 30, 34, 60]]\n",
    "target = 3\n",
    "result = search_matrix(matrix, target)\n",
    "print(result)"
   ]
  },
  {
   "cell_type": "markdown",
   "id": "8f53264f-dbe5-461f-a49b-1240568d4ec7",
   "metadata": {},
   "source": [
    "Question 3 :-"
   ]
  },
  {
   "cell_type": "code",
   "execution_count": 3,
   "id": "cd820cc7-6af7-457f-aa6b-ba9459d8340c",
   "metadata": {},
   "outputs": [
    {
     "name": "stdout",
     "output_type": "stream",
     "text": [
      "False\n"
     ]
    }
   ],
   "source": [
    "def valid_mountain_array(arr):\n",
    "    n = len(arr)  # Get the length of the array\n",
    "\n",
    "    if n < 3:\n",
    "        return False  # If the length of the array is less than 3, return False since it can't be a valid mountain array\n",
    "\n",
    "    i = 0  # Initialize the index i to 0\n",
    "\n",
    "    while i + 1 < n and arr[i] < arr[i + 1]:\n",
    "        i += 1  # Increment i while the elements are strictly increasing\n",
    "\n",
    "    if i == 0 or i == n - 1:\n",
    "        return False  # If i is at the beginning or end of the array, return False since it can't be a valid mountain array\n",
    "\n",
    "    while i + 1 < n and arr[i] > arr[i + 1]:\n",
    "        i += 1  # Increment i while the elements are strictly decreasing\n",
    "\n",
    "    return i == n - 1  # Return True if i reaches the end of the array\n",
    "\n",
    "\n",
    "# Example\n",
    "arr = [2, 1]\n",
    "result = valid_mountain_array(arr)\n",
    "print(result)"
   ]
  },
  {
   "cell_type": "markdown",
   "id": "583dfcef-7443-44e7-bcd9-d0720b912bef",
   "metadata": {},
   "source": [
    "Question 4 :-"
   ]
  },
  {
   "cell_type": "code",
   "execution_count": 4,
   "id": "66d37743-563c-41bd-8555-3da8a3aa7994",
   "metadata": {},
   "outputs": [
    {
     "name": "stdout",
     "output_type": "stream",
     "text": [
      "2\n"
     ]
    }
   ],
   "source": [
    "def find_max_length(nums):\n",
    "    max_length = 0  # Initialize the maximum length to 0\n",
    "    count = 0  # Initialize the count of 0's and 1's to 0\n",
    "    count_map = {0: -1}  # Create a dictionary to store the running sum and its corresponding index\n",
    "\n",
    "    for i, num in enumerate(nums):  # Iterate through each element and its index in the array\n",
    "        if num == 0:\n",
    "            count -= 1  # If the element is 0, decrement the count by 1\n",
    "        elif num == 1:\n",
    "            count += 1  # If the element is 1, increment the count by 1\n",
    "\n",
    "        if count in count_map:\n",
    "            max_length = max(max_length, i - count_map[count])  # If the count is already in the count_map, update the max_length\n",
    "        else:\n",
    "            count_map[count] = i  # If the count is not in the count_map, add it with the current index\n",
    "\n",
    "    return max_length  # Return the maximum length\n",
    "\n",
    "\n",
    "# Example\n",
    "nums = [0, 1]\n",
    "max_length = find_max_length(nums)\n",
    "print(max_length)"
   ]
  },
  {
   "cell_type": "markdown",
   "id": "7828aaac-2f13-4fac-8b26-cd004c91d986",
   "metadata": {},
   "source": [
    "Question 5 :-"
   ]
  },
  {
   "cell_type": "code",
   "execution_count": 6,
   "id": "0eef67a2-8208-4a4f-bfbf-76dbbcb9b854",
   "metadata": {},
   "outputs": [
    {
     "name": "stdout",
     "output_type": "stream",
     "text": [
      "40\n"
     ]
    }
   ],
   "source": [
    "def min_product_sum(nums1, nums2):\n",
    "    nums1.sort()  # Sort nums1 in non-decreasing order\n",
    "    nums2.sort(reverse=True)  # Sort nums2 in non-increasing order\n",
    "\n",
    "    min_product_sum = 0\n",
    "\n",
    "    for num1, num2 in zip(nums1, nums2):\n",
    "        min_product_sum += num1 * num2\n",
    "\n",
    "    return min_product_sum\n",
    "\n",
    "# Example\n",
    "nums1 = [5, 3, 4, 2]\n",
    "nums2 = [4, 2, 2, 5]\n",
    "result = min_product_sum(nums1, nums2)\n",
    "print(result)"
   ]
  },
  {
   "cell_type": "markdown",
   "id": "9e85abdb-2a4b-4d80-b37a-7ee65f7f6261",
   "metadata": {},
   "source": [
    "Question 6 :-"
   ]
  },
  {
   "cell_type": "code",
   "execution_count": 8,
   "id": "34c92ec9-baf6-42f9-8417-0fa09dfad50a",
   "metadata": {},
   "outputs": [
    {
     "name": "stdout",
     "output_type": "stream",
     "text": [
      "[1, 3, 4]\n"
     ]
    }
   ],
   "source": [
    "def find_original_array(changed):\n",
    "    count_map = {}  # Create an empty dictionary to store the count of each element\n",
    "    for num in changed:\n",
    "        count_map[num] = count_map.get(num, 0) + 1  # Update the count of the element in the dictionary\n",
    "\n",
    "    original = []  # Create an empty list to store the original array\n",
    "    for num in changed:\n",
    "        if num not in count_map or count_map[num] == 0:  # Check if the element is present and its count is greater than 0\n",
    "            continue\n",
    "        count_map[num] -= 1  # Decrement the count of the element\n",
    "        if 2 * num not in count_map or count_map[2 * num] == 0:  # Check if the doubled value is present and its count is greater than 0\n",
    "            return []  # Return an empty list if changed is not a doubled array\n",
    "        count_map[2 * num] -= 1  # Decrement the count of the doubled value\n",
    "        original.append(num)  # Append the element to the original array\n",
    "\n",
    "    return original  # Return the original array\n",
    "\n",
    "\n",
    "# Example\n",
    "changed = [1, 3, 4, 2, 6, 8]\n",
    "original = find_original_array(changed)\n",
    "print(original)"
   ]
  },
  {
   "cell_type": "markdown",
   "id": "fa99092b-58cd-48b2-9602-b4e38a492681",
   "metadata": {},
   "source": [
    "Question 7 :-"
   ]
  },
  {
   "cell_type": "code",
   "execution_count": 9,
   "id": "ac8f69f8-8a65-45fb-9011-056e96121a75",
   "metadata": {},
   "outputs": [
    {
     "name": "stdout",
     "output_type": "stream",
     "text": [
      "[[1, 2, 3], [8, 9, 4], [7, 6, 5]]\n"
     ]
    }
   ],
   "source": [
    "def generate_spiral_matrix(n):\n",
    "    matrix = [[0] * n for _ in range(n)]  # Create an n x n matrix filled with zeros\n",
    "    row_start = 0\n",
    "    row_end = n - 1\n",
    "    col_start = 0\n",
    "    col_end = n - 1\n",
    "    num = 1\n",
    "\n",
    "    while num <= n * n:\n",
    "        # Traverse top row from left to right\n",
    "        for col in range(col_start, col_end + 1):\n",
    "            matrix[row_start][col] = num\n",
    "            num += 1\n",
    "        row_start += 1\n",
    "\n",
    "        # Traverse right column from top to bottom\n",
    "        for row in range(row_start, row_end + 1):\n",
    "            matrix[row][col_end] = num\n",
    "            num += 1\n",
    "        col_end -= 1\n",
    "\n",
    "        # Traverse bottom row from right to left\n",
    "        for col in range(col_end, col_start - 1, -1):\n",
    "            matrix[row_end][col] = num\n",
    "            num += 1\n",
    "        row_end -= 1\n",
    "\n",
    "        # Traverse left column from bottom to top\n",
    "        for row in range(row_end, row_start - 1, -1):\n",
    "            matrix[row][col_start] = num\n",
    "            num += 1\n",
    "        col_start += 1\n",
    "\n",
    "    return matrix\n",
    "\n",
    "# Example\n",
    "n = 3\n",
    "matrix = generate_spiral_matrix(n)\n",
    "print(matrix)"
   ]
  },
  {
   "cell_type": "markdown",
   "id": "03314c74-551b-42e0-8f30-ca0665cf99fd",
   "metadata": {},
   "source": [
    "Question 8 :-"
   ]
  },
  {
   "cell_type": "code",
   "execution_count": 10,
   "id": "a3207630-69b3-4d3f-b527-7461710a94ce",
   "metadata": {},
   "outputs": [
    {
     "name": "stdout",
     "output_type": "stream",
     "text": [
      "[[7, 0, 0], [-7, 0, 3]]\n"
     ]
    }
   ],
   "source": [
    "def multiply_sparse_matrices(mat1, mat2):\n",
    "    m = len(mat1)  # Number of rows in mat1\n",
    "    k = len(mat1[0])  # Number of columns in mat1\n",
    "    n = len(mat2[0])  # Number of columns in mat2\n",
    "\n",
    "    result = [[0] * n for _ in range(m)]  # Create an empty result matrix\n",
    "\n",
    "    for i in range(m):\n",
    "        for j in range(n):\n",
    "            for x in range(k):\n",
    "                result[i][j] += mat1[i][x] * mat2[x][j]\n",
    "\n",
    "    return result\n",
    "\n",
    "# Example\n",
    "mat1 = [[1, 0, 0], [-1, 0, 3]]\n",
    "mat2 = [[7, 0, 0], [0, 0, 0], [0, 0, 1]]\n",
    "\n",
    "result = multiply_sparse_matrices(mat1, mat2)\n",
    "print(result)"
   ]
  },
  {
   "cell_type": "code",
   "execution_count": null,
   "id": "5f45d1e7-4e81-41ff-a874-6386cc19d260",
   "metadata": {},
   "outputs": [],
   "source": []
  }
 ],
 "metadata": {
  "kernelspec": {
   "display_name": "Python 3 (ipykernel)",
   "language": "python",
   "name": "python3"
  },
  "language_info": {
   "codemirror_mode": {
    "name": "ipython",
    "version": 3
   },
   "file_extension": ".py",
   "mimetype": "text/x-python",
   "name": "python",
   "nbconvert_exporter": "python",
   "pygments_lexer": "ipython3",
   "version": "3.10.8"
  }
 },
 "nbformat": 4,
 "nbformat_minor": 5
}
