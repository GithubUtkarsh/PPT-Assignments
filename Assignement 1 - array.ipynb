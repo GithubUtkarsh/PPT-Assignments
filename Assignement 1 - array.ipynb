{
 "cells": [
  {
   "cell_type": "markdown",
   "id": "0f82d819-d061-412c-b822-0a29b1f09829",
   "metadata": {},
   "source": [
    "Question 1 :-"
   ]
  },
  {
   "cell_type": "code",
   "execution_count": 1,
   "id": "154d37cc-f2a6-4760-bb00-05a7abd1577c",
   "metadata": {},
   "outputs": [
    {
     "name": "stdout",
     "output_type": "stream",
     "text": [
      "[0, 1]\n"
     ]
    }
   ],
   "source": [
    "def twoSum(nums, target):\n",
    "    num_indices = {}   \n",
    "\n",
    "    for i, num in enumerate(nums):\n",
    "        complement = target - num  \n",
    "\n",
    "        if complement in num_indices:\n",
    "            return [num_indices[complement], i]  \n",
    "\n",
    "        num_indices[num] = i\n",
    "\n",
    "    return []\n",
    "\n",
    "# Example\n",
    "nums = [2, 7, 11, 15]\n",
    "target = 9\n",
    "result = twoSum(nums, target)\n",
    "print(result)  \n"
   ]
  },
  {
   "cell_type": "markdown",
   "id": "97769422-3531-4b73-ab5f-cd66bd96897b",
   "metadata": {},
   "source": [
    "Question 2 :-"
   ]
  },
  {
   "cell_type": "code",
   "execution_count": 2,
   "id": "b4059d9d-4953-472a-9e1e-3f4934f4c7e2",
   "metadata": {},
   "outputs": [
    {
     "name": "stdout",
     "output_type": "stream",
     "text": [
      "k: 2\n",
      "nums: [2, 2]\n"
     ]
    }
   ],
   "source": [
    "def removeElement(nums, val):\n",
    "    left = 0  \n",
    "    for right in range(len(nums)):\n",
    "        if nums[right] != val:\n",
    "            nums[left] = nums[right]\n",
    "            left += 1\n",
    "    return left\n",
    "\n",
    "# Example\n",
    "nums = [3, 2, 2, 3]\n",
    "val = 3\n",
    "k = removeElement(nums, val)\n",
    "print(\"k:\", k)\n",
    "print(\"nums:\", nums[:k])\n"
   ]
  },
  {
   "cell_type": "markdown",
   "id": "e202488f-5de5-4c0b-b17b-8acb9257009c",
   "metadata": {},
   "source": [
    "Question 3 :-"
   ]
  },
  {
   "cell_type": "code",
   "execution_count": 3,
   "id": "a60f4e15-1af7-4483-9542-2a64f64ef769",
   "metadata": {},
   "outputs": [
    {
     "name": "stdout",
     "output_type": "stream",
     "text": [
      "2\n"
     ]
    }
   ],
   "source": [
    "def searchInsert(nums, target):\n",
    "    left, right = 0, len(nums) - 1\n",
    "\n",
    "    while left <= right:\n",
    "        mid = (left + right) // 2\n",
    "\n",
    "        if nums[mid] == target:\n",
    "            return mid\n",
    "        elif nums[mid] < target:\n",
    "            left = mid + 1\n",
    "        else:\n",
    "            right = mid - 1\n",
    "\n",
    "    return left\n",
    "\n",
    "# Example\n",
    "nums = [1, 3, 5, 6]\n",
    "target = 5\n",
    "\n",
    "index = searchInsert(nums, target)\n",
    "print(index)\n"
   ]
  },
  {
   "cell_type": "markdown",
   "id": "afa630ff-ec07-4b74-98fe-49865da5c8ff",
   "metadata": {},
   "source": [
    "Question 4 :-"
   ]
  },
  {
   "cell_type": "code",
   "execution_count": 4,
   "id": "0c3fcaf3-8fee-45a8-946c-0f22f5dccad2",
   "metadata": {},
   "outputs": [
    {
     "name": "stdout",
     "output_type": "stream",
     "text": [
      "[1, 2, 4]\n"
     ]
    }
   ],
   "source": [
    "def plusOne(digits):\n",
    "    n = len(digits)\n",
    "    for i in range(n - 1, -1, -1):\n",
    "        if digits[i] < 9:\n",
    "            digits[i] += 1\n",
    "            return digits\n",
    "        else:\n",
    "            digits[i] = 0\n",
    "    \n",
    "    return [1] + digits\n",
    "\n",
    "# Example\n",
    "digits = [1, 2, 3]\n",
    "result = plusOne(digits)\n",
    "print(result)\n"
   ]
  },
  {
   "cell_type": "markdown",
   "id": "9d98aee5-2bf0-4c56-999f-8bdc18843f56",
   "metadata": {},
   "source": [
    "Question 5 :-"
   ]
  },
  {
   "cell_type": "code",
   "execution_count": 1,
   "id": "3827b273-43a1-4f40-9425-fdebeab2eb3f",
   "metadata": {},
   "outputs": [
    {
     "name": "stdout",
     "output_type": "stream",
     "text": [
      "[1, 2, 2, 3, 5, 6]\n"
     ]
    }
   ],
   "source": [
    "def merge(nums1, m, nums2, n):\n",
    "    i, j, k = m - 1, n - 1, m + n - 1\n",
    "\n",
    "    while i >= 0 and j >= 0:\n",
    "        if nums1[i] <= nums2[j]:\n",
    "            nums1[k] = nums2[j]\n",
    "            j -= 1\n",
    "        else:\n",
    "            nums1[k] = nums1[i]\n",
    "            i -= 1\n",
    "        k -= 1\n",
    "\n",
    "    while j >= 0:\n",
    "        nums1[k] = nums2[j]\n",
    "        j -= 1\n",
    "        k -= 1\n",
    "\n",
    "# Example\n",
    "nums1 = [1, 2, 3, 0, 0, 0]\n",
    "m = 3\n",
    "nums2 = [2, 5, 6]\n",
    "n = 3\n",
    "\n",
    "merge(nums1, m, nums2, n)\n",
    "print(nums1)\n"
   ]
  },
  {
   "cell_type": "markdown",
   "id": "bb4ae012-497f-4554-a83b-16363624b5b3",
   "metadata": {},
   "source": [
    "Question 6 :-"
   ]
  },
  {
   "cell_type": "code",
   "execution_count": 2,
   "id": "e12536f5-db93-4c14-8a3c-4a6eea48bb08",
   "metadata": {},
   "outputs": [
    {
     "name": "stdout",
     "output_type": "stream",
     "text": [
      "True\n"
     ]
    }
   ],
   "source": [
    "def containsDuplicate(nums):\n",
    "    see = set()\n",
    "\n",
    "    for num in nums:\n",
    "        if num in see:\n",
    "            return True\n",
    "        see.add(num)\n",
    "\n",
    "    return False\n",
    "\n",
    "# Example\n",
    "nums = [1, 2, 3, 1]\n",
    "result = containsDuplicate(nums)\n",
    "print(result)\n"
   ]
  },
  {
   "cell_type": "markdown",
   "id": "0db891f3-a4c8-4a97-8b2a-e75cec565e49",
   "metadata": {},
   "source": [
    "Question 7 :-"
   ]
  },
  {
   "cell_type": "code",
   "execution_count": 3,
   "id": "8bf8a331-d28b-4fd1-a1b2-c357d9051e31",
   "metadata": {},
   "outputs": [
    {
     "name": "stdout",
     "output_type": "stream",
     "text": [
      "[1, 3, 12, 0, 0]\n"
     ]
    }
   ],
   "source": [
    "def moveZeroes(nums):\n",
    "    left = 0 \n",
    "\n",
    "    for right in range(len(nums)):\n",
    "        if nums[right] != 0:\n",
    "            nums[left], nums[right] = nums[right], nums[left]\n",
    "            left += 1\n",
    "\n",
    "# Example\n",
    "nums = [0, 1, 0, 3, 12]\n",
    "moveZeroes(nums)\n",
    "print(nums)\n"
   ]
  },
  {
   "cell_type": "markdown",
   "id": "03c4215c-1c63-486d-8c07-da003ceb528f",
   "metadata": {},
   "source": [
    "Question 8 :-"
   ]
  },
  {
   "cell_type": "code",
   "execution_count": 4,
   "id": "b6fd313f-e9b1-4f99-90a0-86f4f84d30eb",
   "metadata": {},
   "outputs": [
    {
     "name": "stdout",
     "output_type": "stream",
     "text": [
      "[2, 3]\n"
     ]
    }
   ],
   "source": [
    "def findErrorNums(nums):\n",
    "    n = len(nums)\n",
    "    num_set = set()\n",
    "    duplicate = -1\n",
    "    missing = -1\n",
    "\n",
    "    for num in nums:\n",
    "        if num in num_set:\n",
    "            duplicate = num\n",
    "        else:\n",
    "            num_set.add(num)\n",
    "\n",
    "    for num in range(1, n+1):\n",
    "        if num not in num_set:\n",
    "            missing = num\n",
    "            break\n",
    "\n",
    "    return [duplicate, missing]\n",
    "\n",
    "# Example\n",
    "nums = [1, 2, 2, 4]\n",
    "result = findErrorNums(nums)\n",
    "print(result)\n"
   ]
  },
  {
   "cell_type": "code",
   "execution_count": null,
   "id": "8d7c2e0a-5572-4ae4-a029-fafdcc52f44b",
   "metadata": {},
   "outputs": [],
   "source": []
  }
 ],
 "metadata": {
  "kernelspec": {
   "display_name": "Python 3 (ipykernel)",
   "language": "python",
   "name": "python3"
  },
  "language_info": {
   "codemirror_mode": {
    "name": "ipython",
    "version": 3
   },
   "file_extension": ".py",
   "mimetype": "text/x-python",
   "name": "python",
   "nbconvert_exporter": "python",
   "pygments_lexer": "ipython3",
   "version": "3.10.8"
  }
 },
 "nbformat": 4,
 "nbformat_minor": 5
}
