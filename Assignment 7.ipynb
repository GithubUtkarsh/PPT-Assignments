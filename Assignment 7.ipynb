{
 "cells": [
  {
   "cell_type": "markdown",
   "id": "2477308a-a88c-40dd-97cf-c4a595897dc6",
   "metadata": {},
   "source": [
    "Question 1:-"
   ]
  },
  {
   "cell_type": "code",
   "execution_count": 1,
   "id": "4196d41f-193d-44ea-ba6f-435816cf8b3b",
   "metadata": {},
   "outputs": [
    {
     "name": "stdout",
     "output_type": "stream",
     "text": [
      "True\n"
     ]
    }
   ],
   "source": [
    "def is_isomorphic(s, t):\n",
    "    if len(s) != len(t):\n",
    "        return False\n",
    "\n",
    "    s_to_t = {}\n",
    "    t_to_s = {}\n",
    "\n",
    "    for i in range(len(s)):\n",
    "        c_s = s[i]\n",
    "        c_t = t[i]\n",
    "\n",
    "        if c_s in s_to_t and s_to_t[c_s] != c_t:\n",
    "            return False\n",
    "\n",
    "        if c_t in t_to_s and t_to_s[c_t] != c_s:\n",
    "            return False\n",
    "\n",
    "        s_to_t[c_s] = c_t\n",
    "        t_to_s[c_t] = c_s\n",
    "\n",
    "    return True\n",
    "\n",
    "# Example\n",
    "s = \"egg\"\n",
    "t = \"add\"\n",
    "result = is_isomorphic(s, t)\n",
    "print(result)"
   ]
  },
  {
   "cell_type": "markdown",
   "id": "11ba3880-50cf-4dbf-9e52-723a1da889da",
   "metadata": {},
   "source": [
    "Question 2:-"
   ]
  },
  {
   "cell_type": "code",
   "execution_count": 2,
   "id": "7fe0f376-7b02-4e35-927c-c3ade227e68b",
   "metadata": {},
   "outputs": [
    {
     "name": "stdout",
     "output_type": "stream",
     "text": [
      "True\n"
     ]
    }
   ],
   "source": [
    "def is_strobogrammatic(num):\n",
    "    strobo_pairs = {'00', '11', '88', '69', '96'}\n",
    "    left, right = 0, len(num) - 1\n",
    "\n",
    "    while left <= right:\n",
    "        pair = num[left] + num[right]\n",
    "\n",
    "        if pair not in strobo_pairs:\n",
    "            return False\n",
    "\n",
    "        left += 1\n",
    "        right -= 1\n",
    "\n",
    "    return True\n",
    "\n",
    "# Example\n",
    "num = \"69\"\n",
    "result = is_strobogrammatic(num)\n",
    "print(result)"
   ]
  },
  {
   "cell_type": "markdown",
   "id": "e1b149e2-9bd5-4c9c-a56b-aeaf77a779b0",
   "metadata": {},
   "source": [
    "Question 3:-"
   ]
  },
  {
   "cell_type": "code",
   "execution_count": 3,
   "id": "e4ef610f-ddc2-4c2f-ab9b-29fd1d1aac6b",
   "metadata": {},
   "outputs": [
    {
     "name": "stdout",
     "output_type": "stream",
     "text": [
      "134\n"
     ]
    }
   ],
   "source": [
    "def addStrings(num1, num2):\n",
    "    result = \"\"\n",
    "    i, j = len(num1) - 1, len(num2) - 1\n",
    "    carry = 0\n",
    "\n",
    "    while i >= 0 or j >= 0:\n",
    "        digit1 = int(num1[i]) if i >= 0 else 0\n",
    "        digit2 = int(num2[j]) if j >= 0 else 0\n",
    "\n",
    "        # Compute the sum of digits and carry\n",
    "        total = digit1 + digit2 + carry\n",
    "\n",
    "        # Append the least significant digit to the result\n",
    "        result += str(total % 10)\n",
    "\n",
    "        # Update the carry\n",
    "        carry = total // 10\n",
    "\n",
    "        i -= 1\n",
    "        j -= 1\n",
    "\n",
    "    # Add the remaining carry if any\n",
    "    if carry > 0:\n",
    "        result += str(carry)\n",
    "\n",
    "    # Reverse the result\n",
    "    result = result[::-1]\n",
    "\n",
    "    return result\n",
    "\n",
    "# Example\n",
    "num1 = \"11\"\n",
    "num2 = \"123\"\n",
    "result = addStrings(num1, num2)\n",
    "print(result)"
   ]
  },
  {
   "cell_type": "markdown",
   "id": "bb66516d-dfb0-4823-a4f2-51a0a11a4446",
   "metadata": {},
   "source": [
    "Question 4:-"
   ]
  },
  {
   "cell_type": "code",
   "execution_count": 4,
   "id": "e168144f-f803-4dbe-9ccf-497f0842e144",
   "metadata": {},
   "outputs": [
    {
     "name": "stdout",
     "output_type": "stream",
     "text": [
      "s'teL ekat edoCteeL tsetnoc\n"
     ]
    }
   ],
   "source": [
    "def reverseWords(s):\n",
    "    words = s.split()\n",
    "    reversed_words = [word[::-1] for word in words]\n",
    "    reversed_sentence = ' '.join(reversed_words)\n",
    "    return reversed_sentence\n",
    "\n",
    "# Example\n",
    "s = \"Let's take LeetCode contest\"\n",
    "reversed_sentence = reverseWords(s)\n",
    "print(reversed_sentence)"
   ]
  },
  {
   "cell_type": "markdown",
   "id": "948c9550-e9d4-40bd-aaf3-73680ae0ad41",
   "metadata": {},
   "source": [
    "Question 5:-"
   ]
  },
  {
   "cell_type": "code",
   "execution_count": 5,
   "id": "11f538da-bdef-4fc0-aef6-d807156bab5e",
   "metadata": {},
   "outputs": [
    {
     "name": "stdout",
     "output_type": "stream",
     "text": [
      "bacdfeg\n"
     ]
    }
   ],
   "source": [
    "def reverseStr(s, k):\n",
    "    result = \"\"\n",
    "    for i in range(0, len(s), 2 * k):\n",
    "        chunk = s[i:i + 2 * k]\n",
    "        result += chunk[:k][::-1] + chunk[k:]\n",
    "    return result\n",
    "\n",
    "# Example\n",
    "s = \"abcdefg\"\n",
    "k = 2\n",
    "reversed_string = reverseStr(s, k)\n",
    "print(reversed_string)"
   ]
  },
  {
   "cell_type": "markdown",
   "id": "366638ed-68c1-4248-8625-8eda91a0edeb",
   "metadata": {},
   "source": [
    "Question 6:-"
   ]
  },
  {
   "cell_type": "code",
   "execution_count": 6,
   "id": "71ce6487-0ef6-42eb-b305-b21583006afa",
   "metadata": {},
   "outputs": [
    {
     "name": "stdout",
     "output_type": "stream",
     "text": [
      "True\n"
     ]
    }
   ],
   "source": [
    "def rotateString(s, goal):\n",
    "    if len(s) != len(goal):\n",
    "        return False\n",
    "    s2 = s + s\n",
    "    return goal in s2\n",
    "\n",
    "# Example\n",
    "s = \"abcde\"\n",
    "goal = \"cdeab\"\n",
    "is_rotated = rotateString(s, goal)\n",
    "print(is_rotated)"
   ]
  },
  {
   "cell_type": "markdown",
   "id": "b400d897-813d-4563-b61d-fb2ed3db8a11",
   "metadata": {},
   "source": [
    "Question 7:-"
   ]
  },
  {
   "cell_type": "code",
   "execution_count": 7,
   "id": "015102ab-9952-429d-b860-37bad9d2d04b",
   "metadata": {},
   "outputs": [
    {
     "name": "stdout",
     "output_type": "stream",
     "text": [
      "True\n"
     ]
    }
   ],
   "source": [
    "def processString(s):\n",
    "    stack = []\n",
    "    for char in s:\n",
    "        if char != '#':\n",
    "            stack.append(char)\n",
    "        elif stack:\n",
    "            stack.pop()\n",
    "    return ''.join(stack)\n",
    "\n",
    "def backspaceCompare(s, t):\n",
    "    return processString(s) == processString(t)\n",
    "\n",
    "#Example\n",
    "s = \"ab#c\"\n",
    "t = \"ad#c\"\n",
    "are_equal = backspaceCompare(s, t)\n",
    "print(are_equal)"
   ]
  },
  {
   "cell_type": "markdown",
   "id": "9bbcfd73-6146-486f-b956-a40961237fa9",
   "metadata": {},
   "source": [
    "Question 8:-"
   ]
  },
  {
   "cell_type": "code",
   "execution_count": 8,
   "id": "ffa45c93-b3a2-4530-bb2a-f53fefcc88b0",
   "metadata": {},
   "outputs": [
    {
     "name": "stdout",
     "output_type": "stream",
     "text": [
      "True\n"
     ]
    }
   ],
   "source": [
    "def checkStraightLine(coordinates):\n",
    "    x1, y1 = coordinates[0]\n",
    "    x2, y2 = coordinates[1]\n",
    "    for i in range(2, len(coordinates)):\n",
    "        x, y = coordinates[i]\n",
    "        if (y2 - y1) * (x - x1) != (y - y1) * (x2 - x1):\n",
    "            return False\n",
    "    return True\n",
    "\n",
    "# Example\n",
    "coordinates = [[1,2],[2,3],[3,4],[4,5],[5,6],[6,7]]\n",
    "is_straight_line = checkStraightLine(coordinates)\n",
    "print(is_straight_line)"
   ]
  },
  {
   "cell_type": "code",
   "execution_count": null,
   "id": "55d772d1-3559-44a4-a5f6-6342ea8f2799",
   "metadata": {},
   "outputs": [],
   "source": []
  }
 ],
 "metadata": {
  "kernelspec": {
   "display_name": "Python 3 (ipykernel)",
   "language": "python",
   "name": "python3"
  },
  "language_info": {
   "codemirror_mode": {
    "name": "ipython",
    "version": 3
   },
   "file_extension": ".py",
   "mimetype": "text/x-python",
   "name": "python",
   "nbconvert_exporter": "python",
   "pygments_lexer": "ipython3",
   "version": "3.10.8"
  }
 },
 "nbformat": 4,
 "nbformat_minor": 5
}
